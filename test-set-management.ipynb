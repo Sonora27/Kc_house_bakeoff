{
 "cells": [
  {
   "cell_type": "code",
   "execution_count": 20,
   "metadata": {},
   "outputs": [],
   "source": [
    "import pickle\n",
    "import pandas as pd\n",
    "import numpy as np\n",
    "import statsmodels.api as sm\n",
    "import matplotlib.pyplot as plt\n",
    "import seaborn as sns\n",
    "from sklearn.preprocessing import PolynomialFeatures\n",
    "from sklearn.linear_model import LinearRegression\n",
    "from sklearn import linear_model\n",
    "from sklearn import metrics\n",
    "plt.style.use('seaborn')\n",
    "sns.set(style=\"white\")"
   ]
  },
  {
   "cell_type": "code",
   "execution_count": 21,
   "metadata": {},
   "outputs": [
    {
     "data": {
      "text/plain": [
       "[LinearRegression(copy_X=True, fit_intercept=True, n_jobs=None, normalize=False),\n",
       " Index(['bedrooms', 'bathrooms', 'sqft_living', 'sqft_lot', 'floors',\n",
       "        'waterfront', 'view', 'grade', 'sqft_above', 'sqft_basement',\n",
       "        ...\n",
       "        'sqft_lot15 x98039', 'sqft_lot15 x98040', 'sqft_lot15 x98102',\n",
       "        'sqft_lot15 x98105', 'sqft_lot15 x98109', 'sqft_lot15 x98112',\n",
       "        'sqft_lot15 x98119', 'sqft_lot15 x98168', 'sqft_lot15 x98177',\n",
       "        'sqft_lot15 x98199'],\n",
       "       dtype='object', length=477)]"
      ]
     },
     "execution_count": 21,
     "metadata": {},
     "output_type": "execute_result"
    }
   ],
   "source": [
    "HOLDOUT_FILENAME = \"kc_house_data_test_features.csv\"\n",
    "PICKLENAME=\"model+cols.p\"\n",
    "CREATECSVNAME = \"full_predictions.csv\"\n",
    "picdump = pickle.load( open( \"model+cols2.p\", \"rb\" ) )\n",
    "picdump"
   ]
  },
  {
   "cell_type": "code",
   "execution_count": 22,
   "metadata": {},
   "outputs": [],
   "source": [
    "from sklearn.model_selection import train_test_split\n",
    "def df_cleaner(csv_file_name, random_state=None, split=False):\n",
    "    df = pd.read_csv(csv_file_name)\n",
    "    \n",
    "    # turn zipcode into into onehot encoding - easier than binning by lat/long\n",
    "    df = pd.concat([df,pd.get_dummies(df[\"zipcode\"],drop_first=True)],axis=1)\n",
    "    df = df.drop([\"zipcode\"],axis=1)\n",
    "    \n",
    "    # drop the original index column and id because using id as index is\n",
    "    # annoying for scaling\n",
    "    #df.set_index(\"id\",inplace=True)\n",
    "    df.drop(\"Unnamed: 0\",axis=1,inplace=True)\n",
    "    df.drop(\"id\",axis=1,inplace=True)\n",
    "    \n",
    "    # can't use datetime form so we convert to timestamp\n",
    "    df[\"date\"] = pd.to_datetime(df.date).apply(lambda x: x.timestamp())\n",
    "    \n",
    "    # removing price so we can plug it into the splitter\n",
    "    if split:\n",
    "        target = df[\"price\"]\n",
    "        features = df.drop(\"price\", axis=1)\n",
    "\n",
    "    if split:\n",
    "        x_train, x_test, y_train, y_test = train_test_split(features, target, random_state=34,test_size=0.2)\n",
    "        return x_train, x__test, y_train, y_test\n",
    "    return df\n",
    "\n",
    "\n",
    "x_holdout = df_cleaner(HOLDOUT_FILENAME)\n",
    "\n",
    "x_holdout.columns = map(lambda x: \"x\" + str(x) if type(x)==int else x, x_holdout.columns)\n"
   ]
  },
  {
   "cell_type": "code",
   "execution_count": 23,
   "metadata": {},
   "outputs": [
    {
     "data": {
      "text/plain": [
       "(4323, 477)"
      ]
     },
     "execution_count": 23,
     "metadata": {},
     "output_type": "execute_result"
    }
   ],
   "source": [
    "n=2\n",
    "poly = PolynomialFeatures(degree=n, include_bias=False, interaction_only=True)\n",
    "poly_data = poly.fit_transform(x_holdout)\n",
    "poly_columns = poly.get_feature_names(x_holdout.columns)\n",
    "df_poly = pd.DataFrame(poly_data, columns=poly_columns)\n",
    "selected_cols = df_poly[picdump[1]]\n",
    "selected_cols.shape"
   ]
  },
  {
   "cell_type": "code",
   "execution_count": 24,
   "metadata": {},
   "outputs": [],
   "source": [
    "predictions = picdump[0].predict(selected_cols)"
   ]
  },
  {
   "cell_type": "code",
   "execution_count": 27,
   "metadata": {},
   "outputs": [],
   "source": [
    "preddf = pd.DataFrame(predictions)\n",
    "preddf.to_csv(CREATECSVNAME,header=False)"
   ]
  },
  {
   "cell_type": "code",
   "execution_count": null,
   "metadata": {},
   "outputs": [],
   "source": []
  },
  {
   "cell_type": "code",
   "execution_count": null,
   "metadata": {},
   "outputs": [],
   "source": []
  }
 ],
 "metadata": {
  "kernelspec": {
   "display_name": "Python 3",
   "language": "python",
   "name": "python3"
  },
  "language_info": {
   "codemirror_mode": {
    "name": "ipython",
    "version": 3
   },
   "file_extension": ".py",
   "mimetype": "text/x-python",
   "name": "python",
   "nbconvert_exporter": "python",
   "pygments_lexer": "ipython3",
   "version": "3.7.6"
  }
 },
 "nbformat": 4,
 "nbformat_minor": 4
}
